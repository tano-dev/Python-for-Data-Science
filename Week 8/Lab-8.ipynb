{
 "cells": [
  {
   "cell_type": "markdown",
   "id": "1c4adf2f-2c8c-456b-bad8-f1fb666f26b2",
   "metadata": {},
   "source": [
    "## Lab 8 - Card Shuffling and Dealing Simulation\n",
    "\n",
    "Our example presents two custom classes that you can use to shuffle and deal a deck of cards. Class Card represents a playing card that has a face ('Ace', '2', '3', …, 'Jack', 'Queen', 'King') and a suit ('Hearts', 'Diamonds', 'Clubs', 'Spades'). Class DeckOfCards represents a deck of 52 playing cards as a list of Card objects. \n",
    "\n",
    "First, we’ll test-drive these classes to demonstrate card shuffling and dealing capabilities and displaying the cards as text. Then we’ll look at the class definitions. Finally, we’ll display the 52 cards as images using Matplotlib. We’ll show you where to get nice-looking public-domain card images.\n",
    "\n",
    "https://commons.wikimedia.org/wiki/Category:SVG_English_pattern_playing_cardshttps://commons.wikimedia.org/wiki/Category:SVG_English_pattern_playing_cards"
   ]
  },
  {
   "cell_type": "markdown",
   "id": "dc3ce238-75d8-45a7-96f0-a28b132304a2",
   "metadata": {},
   "source": [
    "#### Creating, Shuffling and Dealing the Cards\n"
   ]
  },
  {
   "cell_type": "code",
   "execution_count": null,
   "id": "0397cdc1-e70a-44cf-b0ab-fef0770f4956",
   "metadata": {},
   "outputs": [],
   "source": [
    "deck_of_cards = DeckOfCards()\n",
    "print(deck_of_cards)\n",
    "Ace of Hearts  2 of Hearts  3 of Hearts  4 of Hearts \n",
    "5 of Hearts    6 of Hearts  7 of Hearts  8 of Hearts \n",
    "..."
   ]
  },
  {
   "cell_type": "code",
   "execution_count": null,
   "id": "09b084c3-8d32-4f3d-9319-95de0697bedf",
   "metadata": {},
   "outputs": [],
   "source": [
    "deck_of_cards.shuffle()\n",
    "print(deck_of_cards)\n",
    "King of Hearts  Queen of Clubs  Queen of Diamonds  10 of Clubs \n",
    "5 of Hearts     7 of Hearts     4 of Hearts        2 of Hearts"
   ]
  },
  {
   "cell_type": "markdown",
   "id": "41a2ccbf-f76e-4b85-9d9c-410613ecac25",
   "metadata": {},
   "source": [
    "#### Dealing Cards"
   ]
  },
  {
   "cell_type": "code",
   "execution_count": null,
   "id": "d54d3f8d-027e-46da-8203-c2bb2003807b",
   "metadata": {},
   "outputs": [],
   "source": [
    "deck_of_cards.deal_card()\n",
    "Card(face='King', suit='Hearts')"
   ]
  },
  {
   "cell_type": "code",
   "execution_count": null,
   "id": "5df74050-af15-4f49-8c4e-994ebb876c9e",
   "metadata": {},
   "outputs": [],
   "source": [
    "card = deck_of_cards.deal_card()\n",
    "str(card)\n",
    "'Queen of Clubs'"
   ]
  },
  {
   "cell_type": "code",
   "execution_count": null,
   "id": "14cd6851-e10e-468c-8391-f0db49a09f5f",
   "metadata": {},
   "outputs": [],
   "source": [
    "card.image_name\n",
    "'Queen_of_Clubs.png'"
   ]
  },
  {
   "cell_type": "markdown",
   "id": "b535f899-a892-4b33-bb5d-46f3013a6b81",
   "metadata": {},
   "source": [
    "## Class Card—Introducing Class Attributes "
   ]
  },
  {
   "cell_type": "markdown",
   "id": "2b49e65d-fe0a-4748-b5f0-c6fc5bc39c24",
   "metadata": {},
   "source": [
    "Each Card object contains three string properties representing that Card’s face, suit and image_name (a file name containing a corresponding image)."
   ]
  },
  {
   "cell_type": "markdown",
   "id": "cd3f7ed1-65f9-4362-b4e8-c8349dccee9f",
   "metadata": {},
   "source": [
    "#### Class Attributes FACES and SUITS "
   ]
  },
  {
   "cell_type": "markdown",
   "id": "ef0d9d77-86a3-4ae9-b847-ff835935304e",
   "metadata": {},
   "source": [
    "Each object of a class has its own copies of the class’s data attributes. For example, each Account object has its own name and balance. Sometimes, an attribute should be shared by all objects of a class. \n",
    "\n",
    "A class attribute (also called a class variable) represents class-wide information. It belongs to the class, not to a specific object of that class. Class Card defines two class attributes:\n",
    "- FACES is a list of the card face names. \n",
    "- SUITS is a list of the card suit names."
   ]
  },
  {
   "cell_type": "code",
   "execution_count": 2,
   "id": "c05932f6-8b70-48c6-ab6d-6eb32c4fd18f",
   "metadata": {},
   "outputs": [],
   "source": [
    "class Card:\n",
    "    FACES = ['Ace', '2', '3', '4', '5', '6', '7', '8', '9', '10', 'Jack', 'Queen', 'King']\n",
    "    SUITS = ['Hearts', 'Diamonds', 'Clubs', 'Spades']\n",
    "\n",
    "    def __init__(self, face, suit):\n",
    "        \"\"\"Initialize a Card with a face and suit.\"\"\"\n",
    "        self._face = face\n",
    "        self._suit = suit\n",
    "\n",
    "    @property\n",
    "    def face(self):\n",
    "        \"\"\"Return the Card's self._face value.\"\"\"\n",
    "        return self._face\n",
    "    \n",
    "    @property\n",
    "    def suit(self):\n",
    "        \"\"\"Return the Card's self._suit value.\"\"\"\n",
    "        return self._suit\n",
    "    \n",
    "    @property\n",
    "    def image_name(self):\n",
    "        \"\"\"Return the Card's image file name.\"\"\"\n",
    "        return str(self).replace(' ', '_') + '.png'\n",
    "\n",
    "    def __repr__(self):\n",
    "        \"\"\"Return string representation for repr().\"\"\"\n",
    "        return f\"Card(face='{self.face}', suit='{self.suit}')\"\n",
    "\n",
    "    def __str__(self):\n",
    "        \"\"\"Return string representation for str().\"\"\"\n",
    "        return f'{self.face} of {self.suit}'\n",
    "\n",
    "    def __format__(self, format):\n",
    "        \"\"\"Return formatted string representation for str().\"\"\"\n",
    "        return f'{str(self):{format}}'"
   ]
  },
  {
   "cell_type": "markdown",
   "id": "f1952373-e3c4-4620-b733-bd8578952d4a",
   "metadata": {},
   "source": [
    "Class Card’s special method __format__ is called when a Card object is formatted as a\n",
    "string, such as in an f-string:\n",
    "\n",
    "This method’s second argument is the format string used to format the object. To use the\n",
    "format parameter’s value as the format specifier, enclose the parameter name in braces to\n",
    "the right of the colon. In this case, we’re formatting the Card object’s string representation returned by str(self)."
   ]
  },
  {
   "cell_type": "markdown",
   "id": "9473c9ff-aca6-46ac-9323-da25481a72a3",
   "metadata": {},
   "source": [
    "#### Card Method __init__"
   ]
  },
  {
   "cell_type": "code",
   "execution_count": null,
   "id": "7c116008-1429-4c4a-9aa7-85bd0ad9efe0",
   "metadata": {},
   "outputs": [],
   "source": []
  },
  {
   "cell_type": "markdown",
   "id": "28e79d5d-a06a-4fec-8d39-fd81decf2a49",
   "metadata": {
    "tags": []
   },
   "source": [
    "#### Read-Only Properties face, suit and image_name"
   ]
  },
  {
   "cell_type": "code",
   "execution_count": null,
   "id": "e8c4a96a-9f6f-412a-b3ff-be6fdb8b90c3",
   "metadata": {},
   "outputs": [],
   "source": []
  },
  {
   "cell_type": "markdown",
   "id": "77dcc4ed-7c50-4709-97d6-0441d440e89e",
   "metadata": {
    "tags": []
   },
   "source": [
    "#### Methods That Return String Representations of a Card "
   ]
  },
  {
   "cell_type": "code",
   "execution_count": null,
   "id": "148ae9d5-f5af-4133-99f3-d6bde360c20b",
   "metadata": {},
   "outputs": [],
   "source": []
  },
  {
   "cell_type": "markdown",
   "id": "16d55576-801d-439f-b8fe-e371939bb8c8",
   "metadata": {
    "tags": []
   },
   "source": [
    "## Class DeckOfCards "
   ]
  },
  {
   "cell_type": "markdown",
   "id": "24c11fca-443a-4da9-97b0-ba268da6aba3",
   "metadata": {},
   "source": [
    "Class DeckOfCards has a class attribute NUMBER_OF_CARDS, representing the number of Cards in a deck, and creates two data attributes:\n",
    "- _current_card keeps track of which Card will be dealt next (0–51) and \n",
    "- _deck is a list of 52 Card objects."
   ]
  },
  {
   "cell_type": "markdown",
   "id": "03582f3e-a100-4d64-8fc2-12df8271a200",
   "metadata": {},
   "source": [
    "#### Card Method __init__\n",
    "\n",
    "DeckOfCards method __init__ initializes a _deck of Cards. The for statement fills the list _deck by appending new Card objects, each initialized with two strings — one from the list Card.FACES and one from Card.SUITS. \n",
    "\n",
    "The calculation count % 13 always results in a value from 0 to 12 (the 13 indices of Card.FACES), and the calculation count // 13 always\n",
    "results in a value from 0 to 3 (the four indices of Card.SUITS). \n",
    "\n",
    "When the _deck list is initialized, it contains the Cards with faces 'Ace' through 'King' in order for all the Hearts, then the Diamonds, then the Clubs, then the Spades."
   ]
  },
  {
   "cell_type": "code",
   "execution_count": 4,
   "id": "d9d20114-d4f6-4873-af3b-12006179b3bb",
   "metadata": {},
   "outputs": [],
   "source": [
    "import random \n",
    "\n",
    "class DeckOfCards:\n",
    "    NUMBER_OF_CARDS = 52 # constant number of Cards\n",
    "\n",
    "    def __init__(self):\n",
    "        \"\"\"Initialize the deck.\"\"\"\n",
    "        self._current_card = 0\n",
    "        self._deck = []\n",
    "\n",
    "        for count in range(DeckOfCards.NUMBER_OF_CARDS): \n",
    "            self._deck.append(Card(Card.FACES[count % 13], Card.SUITS[count // 13]))\n",
    "\n",
    "    def shuffle(self):\n",
    "        \"\"\"Shuffle deck.\"\"\"\n",
    "        self._current_card = 0\n",
    "        random.shuffle(self._deck) \n",
    "\n",
    "    def deal_card(self):\n",
    "        \"\"\"Return one Card.\"\"\"\n",
    "        try:\n",
    "            card = self._deck[self._current_card]\n",
    "            self._current_card += 1\n",
    "            return card\n",
    "        except:\n",
    "            return None \n",
    "\n",
    "    def __str__(self):\n",
    "        \"\"\"Return a string representation of the current _deck.\"\"\"\n",
    "        s = ''\n",
    "    \n",
    "        for index, card in enumerate(self._deck):\n",
    "            s += f'{self._deck[index]:<19}'\n",
    "            if (index + 1) % 4 == 0:\n",
    "                s += '\\n'\n",
    "        \n",
    "        return s"
   ]
  },
  {
   "cell_type": "markdown",
   "id": "5aa83b7d-ea9a-41ff-a30f-9478e2e95a64",
   "metadata": {
    "tags": []
   },
   "source": [
    "#### Method shuffle\n",
    "\n",
    "Method shuffle resets _current_card to 0, then shuffles the Cards in _deck using the random module’s shuffle function."
   ]
  },
  {
   "cell_type": "code",
   "execution_count": null,
   "id": "44f4db60-0ab7-47cd-84f5-fd8a93078777",
   "metadata": {},
   "outputs": [],
   "source": []
  },
  {
   "cell_type": "markdown",
   "id": "477bb8c8-21a6-45ee-81bc-3c2666f1250a",
   "metadata": {
    "tags": []
   },
   "source": [
    "#### Method deal_card\n",
    "\n",
    "Method deal_card deals one Card from _deck. Recall that _current_card indicates the index (0–51) of the next Card to be dealt (that is, the Card at the top of the deck). \n",
    "\n",
    "If successful, the method increments _current_card by 1, then returns the Card being dealt; otherwise, the method returns None to indicate there are no more Cards to deal. "
   ]
  },
  {
   "cell_type": "code",
   "execution_count": null,
   "id": "5092f358-f43e-42f4-b9e6-8cb94c7c6e33",
   "metadata": {},
   "outputs": [],
   "source": []
  },
  {
   "cell_type": "markdown",
   "id": "7f24f3c5-7723-46e8-9c44-0b4961fa26bc",
   "metadata": {
    "tags": []
   },
   "source": [
    "#### Method __str__"
   ]
  },
  {
   "cell_type": "code",
   "execution_count": 2,
   "id": "4d460af3-95a3-4ee6-bbb9-9e1b54261eba",
   "metadata": {},
   "outputs": [
    {
     "data": {
      "text/plain": [
       "[2, 3, 1]"
      ]
     },
     "execution_count": 2,
     "metadata": {},
     "output_type": "execute_result"
    }
   ],
   "source": [
    "s = [1, 2, 3]\n",
    "random.shuffle(s)\n",
    "s"
   ]
  },
  {
   "cell_type": "code",
   "execution_count": 5,
   "id": "a419a4f5-33c2-4d86-bec7-de2ac88f2a25",
   "metadata": {},
   "outputs": [
    {
     "name": "stdout",
     "output_type": "stream",
     "text": [
      "Ace of Hearts      2 of Hearts        3 of Hearts        4 of Hearts        \n",
      "5 of Hearts        6 of Hearts        7 of Hearts        8 of Hearts        \n",
      "9 of Hearts        10 of Hearts       Jack of Hearts     Queen of Hearts    \n",
      "King of Hearts     Ace of Diamonds    2 of Diamonds      3 of Diamonds      \n",
      "4 of Diamonds      5 of Diamonds      6 of Diamonds      7 of Diamonds      \n",
      "8 of Diamonds      9 of Diamonds      10 of Diamonds     Jack of Diamonds   \n",
      "Queen of Diamonds  King of Diamonds   Ace of Clubs       2 of Clubs         \n",
      "3 of Clubs         4 of Clubs         5 of Clubs         6 of Clubs         \n",
      "7 of Clubs         8 of Clubs         9 of Clubs         10 of Clubs        \n",
      "Jack of Clubs      Queen of Clubs     King of Clubs      Ace of Spades      \n",
      "2 of Spades        3 of Spades        4 of Spades        5 of Spades        \n",
      "6 of Spades        7 of Spades        8 of Spades        9 of Spades        \n",
      "10 of Spades       Jack of Spades     Queen of Spades    King of Spades     \n",
      "\n"
     ]
    }
   ],
   "source": [
    "deck_of_cards = DeckOfCards()\n",
    "print(deck_of_cards)"
   ]
  },
  {
   "cell_type": "code",
   "execution_count": 6,
   "id": "ca930158-ecf3-47ca-8d5e-7f0a3dab83ef",
   "metadata": {},
   "outputs": [
    {
     "name": "stdout",
     "output_type": "stream",
     "text": [
      "8 of Clubs         9 of Hearts        King of Spades     4 of Spades        \n",
      "6 of Hearts        9 of Spades        Queen of Clubs     King of Hearts     \n",
      "7 of Spades        5 of Diamonds      Jack of Hearts     6 of Clubs         \n",
      "5 of Spades        7 of Hearts        4 of Clubs         10 of Clubs        \n",
      "5 of Hearts        2 of Hearts        7 of Diamonds      6 of Diamonds      \n",
      "3 of Clubs         3 of Diamonds      7 of Clubs         Queen of Spades    \n",
      "Queen of Hearts    Ace of Hearts      Queen of Diamonds  9 of Diamonds      \n",
      "6 of Spades        3 of Hearts        10 of Spades       3 of Spades        \n",
      "10 of Hearts       5 of Clubs         Ace of Clubs       4 of Hearts        \n",
      "Ace of Spades      2 of Spades        8 of Hearts        Ace of Diamonds    \n",
      "King of Diamonds   2 of Diamonds      Jack of Clubs      Jack of Diamonds   \n",
      "8 of Spades        4 of Diamonds      8 of Diamonds      Jack of Spades     \n",
      "10 of Diamonds     2 of Clubs         9 of Clubs         King of Clubs      \n",
      "\n"
     ]
    }
   ],
   "source": [
    "deck_of_cards.shuffle()\n",
    "print(deck_of_cards)"
   ]
  },
  {
   "cell_type": "code",
   "execution_count": 7,
   "id": "01c78a6c-361e-48e2-bd61-53fef5c3381a",
   "metadata": {},
   "outputs": [
    {
     "data": {
      "text/plain": [
       "Card(face='8', suit='Clubs')"
      ]
     },
     "execution_count": 7,
     "metadata": {},
     "output_type": "execute_result"
    }
   ],
   "source": [
    "deck_of_cards.deal_card()"
   ]
  },
  {
   "cell_type": "code",
   "execution_count": 8,
   "id": "472266fc-0f02-46d2-89f1-f5ed8d361c69",
   "metadata": {},
   "outputs": [
    {
     "name": "stdout",
     "output_type": "stream",
     "text": [
      "9 of Hearts\n"
     ]
    }
   ],
   "source": [
    "card = deck_of_cards.deal_card()\n",
    "print(card)"
   ]
  },
  {
   "cell_type": "code",
   "execution_count": null,
   "id": "b7774cea-72d9-43b5-92f8-aee19f2098d8",
   "metadata": {},
   "outputs": [],
   "source": []
  }
 ],
 "metadata": {
  "kernelspec": {
   "display_name": "Python 3 (ipykernel)",
   "language": "python",
   "name": "python3"
  },
  "language_info": {
   "codemirror_mode": {
    "name": "ipython",
    "version": 3
   },
   "file_extension": ".py",
   "mimetype": "text/x-python",
   "name": "python",
   "nbconvert_exporter": "python",
   "pygments_lexer": "ipython3",
   "version": "3.10.12"
  }
 },
 "nbformat": 4,
 "nbformat_minor": 5
}
