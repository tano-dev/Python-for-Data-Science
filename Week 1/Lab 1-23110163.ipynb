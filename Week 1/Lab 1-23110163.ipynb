{
 "cells": [
  {
   "cell_type": "markdown",
   "id": "f1917c9d-9e77-40b0-98b4-dd7bd4833268",
   "metadata": {},
   "source": [
    "# Basic Descriptive Statistics"
   ]
  },
  {
   "cell_type": "markdown",
   "id": "d1cb1df0-9943-4cc3-852e-63e91d4890ee",
   "metadata": {},
   "source": [
    "In data science, you’ll often use statistics to describe and summarize your data. Here, we begin by introducing several such <b>descriptive statistics</b>, including:\n",
    "\n",
    "- minimum—the smallest value in a collection of values.\n",
    "\n",
    "- maximum—the largest value in a collection of values.\n",
    "\n",
    "- range—the range of values from the minimum to the maximum.\n",
    "\n",
    "- count—the number of values in a collection.\n",
    "\n",
    "- sum—the total of the values in a collection.\n"
   ]
  },
  {
   "cell_type": "markdown",
   "id": "e7b804f0-9321-4b82-82e1-2fa2c547dae9",
   "metadata": {},
   "source": [
    "## 1.1 Determining the Minimum of Three Values"
   ]
  },
  {
   "cell_type": "markdown",
   "id": "1c0403e9-e739-43e2-b9e7-6f1a9601a3d6",
   "metadata": {},
   "source": [
    "First, let’s show how to determine the minimum of three values manually. The following script prompts for and inputs three values, uses if statements to determine the minimum value, then displays it."
   ]
  },
  {
   "cell_type": "code",
   "execution_count": 2,
   "id": "a2aab747-5728-4d6c-b530-a52fcc138161",
   "metadata": {},
   "outputs": [
    {
     "name": "stdout",
     "output_type": "stream",
     "text": [
      "The minimum of three values [10, 11, 9] is 9\n"
     ]
    }
   ],
   "source": [
    "\"\"\"Find the minimum of three values.\"\"\"\n",
    "\n",
    "number1 = int(input(\"Enter the first number: \"))\n",
    "number2 = int(input(\"Enter the second number: \"))\n",
    "number3 = int(input(\"Enter the third number: \"))\n",
    "\n",
    "lst = []\n",
    "lst.append(number1)\n",
    "lst.append(number2)\n",
    "lst.append(number3)\n",
    "\n",
    "min_number = min(lst)\n",
    "\n",
    "print(f\"The minimum of three values {lst} is {min_number}\")"
   ]
  },
  {
   "cell_type": "markdown",
   "id": "f1373104-f353-42f5-b57e-33067a742d67",
   "metadata": {},
   "source": [
    "## 1.2 Determining the Minimum and Maximum with Built-In Functions min and max"
   ]
  },
  {
   "cell_type": "markdown",
   "id": "4e4c28f5-2bf5-4378-b085-bf5c2ab2f10b",
   "metadata": {},
   "source": [
    "Python has many built-in functions for performing common tasks. Built-in functions min and max calculate the minimum and maximum, respectively, of a collection of values:"
   ]
  },
  {
   "cell_type": "code",
   "execution_count": 1,
   "id": "5aa4b13b-c0a8-41ff-b9dd-1d23bce0a591",
   "metadata": {},
   "outputs": [
    {
     "data": {
      "text/plain": [
       "12"
      ]
     },
     "execution_count": 1,
     "metadata": {},
     "output_type": "execute_result"
    }
   ],
   "source": [
    "min(36, 27, 12)"
   ]
  },
  {
   "cell_type": "code",
   "execution_count": 3,
   "id": "5ec9cee7-0cc2-4ee7-8b10-5d49b4499121",
   "metadata": {},
   "outputs": [
    {
     "data": {
      "text/plain": [
       "36"
      ]
     },
     "execution_count": 3,
     "metadata": {},
     "output_type": "execute_result"
    }
   ],
   "source": [
    "max(36, 27, 12)"
   ]
  },
  {
   "cell_type": "markdown",
   "id": "15cf2ae3-10d3-47bd-8c07-9b2890b8c335",
   "metadata": {},
   "source": [
    "## 1.3 Determining the Range of a Collection of Values"
   ]
  },
  {
   "cell_type": "markdown",
   "id": "5bb55713-4328-4f83-adfb-f377900df4c3",
   "metadata": {},
   "source": [
    "The range of values is simply the minimum through the maximum value. In this case, the range is 12 through 36. Much data science is devoted to getting to know your data. Descriptive statistics is a crucial part of that, but you also have to understand how to interpret the statistics. For example, if you have 100 numbers with a range of 12 through 36, those numbers could be distributed evenly over that range. At the opposite extreme, you could have clumping with 99 values of 12 and one 36, or one 12 and 99 values of 36."
   ]
  },
  {
   "cell_type": "code",
   "execution_count": null,
   "id": "1144af33-0aa1-4395-9134-94255e89c3dc",
   "metadata": {},
   "outputs": [],
   "source": [
    "print('Range:', min(36, 27, 12), '-', max(36, 27, 12))"
   ]
  }
 ],
 "metadata": {
  "kernelspec": {
   "display_name": ".venv",
   "language": "python",
   "name": "python3"
  },
  "language_info": {
   "codemirror_mode": {
    "name": "ipython",
    "version": 3
   },
   "file_extension": ".py",
   "mimetype": "text/x-python",
   "name": "python",
   "nbconvert_exporter": "python",
   "pygments_lexer": "ipython3",
   "version": "3.14.0"
  }
 },
 "nbformat": 4,
 "nbformat_minor": 5
}
