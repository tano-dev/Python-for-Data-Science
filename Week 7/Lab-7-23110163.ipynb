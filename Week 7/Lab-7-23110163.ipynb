{
 "cells": [
  {
   "cell_type": "markdown",
   "id": "1c4adf2f-2c8c-456b-bad8-f1fb666f26b2",
   "metadata": {},
   "source": [
    "Let’s develop a Time class that stores the time in 24-hour clock format with hours in the range 0–23, and minutes and seconds each in the range 0–59. \n",
    "\n",
    "For this class, we’ll provide properties, which look like data attributes to client-code programmers, but control the manner in which they get and modify an object’s data. This assumes that other programmers follow Python conventions to correctly use objects of your class."
   ]
  },
  {
   "cell_type": "markdown",
   "id": "dc3ce238-75d8-45a7-96f0-a28b132304a2",
   "metadata": {},
   "source": [
    "#### Creating a Time Object\n",
    "\n",
    "Next, let’s create a Time object. Class Time’s __init__ method has hour, minute and second parameters, each with a default argument value of 0. Here, we specify the hour and minute—second defaults to 0:"
   ]
  },
  {
   "cell_type": "code",
   "execution_count": null,
   "id": "89d5dda7-8686-4977-b27c-637fd54b775e",
   "metadata": {},
   "outputs": [],
   "source": [
    " wake_up = Time(hour=6, minute=30)"
   ]
  },
  {
   "cell_type": "markdown",
   "id": "22ec4177-3cef-4fa9-a183-aa915992f99a",
   "metadata": {},
   "source": [
    "#### Displaying a Time Object\n",
    "\n",
    "Class Time defines two methods that produce string representations of Time object. When you evaluate a variable in IPython as in snippet [3], IPython calls the object’s __repr__ special method to produce a string  representation of the object. Our __repr__ implementation creates a string in the following format:"
   ]
  },
  {
   "cell_type": "code",
   "execution_count": null,
   "id": "ffc29922-27f4-496c-88ce-00784642b2dc",
   "metadata": {},
   "outputs": [],
   "source": [
    "wake_up\n",
    "Time(hour=6, minute=30, second=0)"
   ]
  },
  {
   "cell_type": "markdown",
   "id": "855b2716-57a9-45bd-a7d1-7d0a9ffada84",
   "metadata": {},
   "source": [
    "We’ll also provide the __str__ special method, which is called when an object is converted to a string, such as when you output the object with print. Our __str__ implementation creates a string in 12-hour clock format:"
   ]
  },
  {
   "cell_type": "code",
   "execution_count": null,
   "id": "debb2230-1f69-4d55-88df-85fa6c3bfc96",
   "metadata": {},
   "outputs": [],
   "source": [
    "print(wake_up)\n",
    "6:30:00 AM"
   ]
  },
  {
   "cell_type": "markdown",
   "id": "28c01b25-f243-42cf-b6bc-0d8ae9e68399",
   "metadata": {
    "tags": []
   },
   "source": [
    "#### Getting an Attribute Via a Property\n",
    "\n",
    "Class time provides hour, minute and second properties, which provide the convenience of data attributes for getting and modifying an object’s data. However, as you’ll see, properties are implemented as methods, so they may contain additional logic, such as specifying the format in which to return a data attribute’s value or validating a new value before using it to modify a data attribute. Here, we get the wake_up object’s hour value:"
   ]
  },
  {
   "cell_type": "code",
   "execution_count": null,
   "id": "f7f3d3b8-5651-4c71-9d84-a2e90e7e1c60",
   "metadata": {},
   "outputs": [],
   "source": [
    "wake_up.hour\n",
    "6"
   ]
  },
  {
   "cell_type": "markdown",
   "id": "92241592-8ec1-420b-ac6a-82979965ca22",
   "metadata": {},
   "source": [
    "Though this snippet appears to simply get an hour data attribute’s value, it’s actually a call to an hour method that returns the value of a data attribute (which we named _hour, as you’ll see in the next section)."
   ]
  },
  {
   "cell_type": "markdown",
   "id": "a971d6d9-2f9f-4e0e-98d5-1f49c12c47e6",
   "metadata": {},
   "source": [
    "#### Setting the Time\n",
    "\n",
    "You can set a new time with the Time object’s set_time method. Like method __init__, method set_time provides hour, minute and second parameters, each with a default of 0:"
   ]
  },
  {
   "cell_type": "code",
   "execution_count": null,
   "id": "a557e951-89f0-44ab-9358-a8d6844c981d",
   "metadata": {},
   "outputs": [],
   "source": [
    "wake_up.set_time(hour=7, minute=45)\n",
    "wake_up\n",
    "Time(hour=7, minute=45, second=0)"
   ]
  },
  {
   "cell_type": "markdown",
   "id": "49b8b74e-f784-478e-84b9-f63c5d880792",
   "metadata": {},
   "source": [
    "#### Setting an Attribute via a Property \n",
    "\n",
    "Class Time also supports setting the hour, minute and second values individually via its properties. Let’s change the hour value to 6:"
   ]
  },
  {
   "cell_type": "code",
   "execution_count": null,
   "id": "aea7ba2b-8afe-4125-bb85-6c97f6d914d7",
   "metadata": {},
   "outputs": [],
   "source": [
    "wake_up.hour = 6\n",
    "wake_up\n",
    "Time(hour=6, minute=45, second=0)"
   ]
  },
  {
   "cell_type": "markdown",
   "id": "f68b765d-e950-4a6a-a486-202f55208c6e",
   "metadata": {},
   "source": [
    "Though the above snippetappears to simply assign a value to a data attribute, it’s actually a call to an hour method that takes 6 as an argument. The method validates the value, then assigns it to a corresponding data attribute (which we named _hour, as you’ll see in the next section)."
   ]
  },
  {
   "cell_type": "markdown",
   "id": "23d48d86-611a-41af-b21e-9c5a63e1e3bc",
   "metadata": {},
   "source": [
    "##  Class Time Definition"
   ]
  },
  {
   "cell_type": "markdown",
   "id": "c9c5f29f-588e-4371-aefc-2d437dd5e852",
   "metadata": {},
   "source": [
    "####  __init__ Method with Default Parameter Values"
   ]
  },
  {
   "cell_type": "markdown",
   "id": "fda925de-a5dc-49ec-a554-0a941d7cd93a",
   "metadata": {},
   "source": [
    "Class Time’s __init__ method specifies hour, minute and second parameters, each with a default argument of 0. Similar to class Account’s __init__ method, recall that the self parameter is a reference to the Time object being initialized. The statements containing self.hour, self.minute and self.second appear to create hour, minute and second attributes for the new Time object (self). \n",
    "\n",
    "However, these statements actually call methods that implement the class’s hour, minute and second properties (lines 13–50). Those methods then create attributes named _hour, _minute and _second that are meant for use only inside the class:"
   ]
  },
  {
   "cell_type": "code",
   "execution_count": 13,
   "id": "42408676-4433-47f9-8d11-fecf34f7f76f",
   "metadata": {},
   "outputs": [],
   "source": [
    "\n",
    "\n",
    "class Time:\n",
    "    \"\"\"Class Time with read-write properties.\"\"\"\n",
    "\n",
    "    def __init__(self, hour=0, minute=0, second=0):\n",
    "        \"\"\"Initialize each attribute.\"\"\"\n",
    "        \n",
    "        self.hour = hour # 0-23\n",
    "        self.minute = minute # 0-59\n",
    "        self.second = second # 0-59\n",
    "        \n",
    "    @property\n",
    "    def hour(self):\n",
    "        \"\"\"Return the hour.\"\"\"\n",
    "        return self._hour\n",
    "\n",
    "    @hour.setter\n",
    "    def hour(self, hour):\n",
    "        \"\"\"Set the hour.\"\"\"\n",
    "        if not (0 <= hour < 24):\n",
    "            raise ValueError(f'Hour ({hour}) must be 0-23')\n",
    "\n",
    "        self._hour = hour\n",
    "\n",
    "    def __repr__(self):\n",
    "        \"\"\"Return Time string for repr().\"\"\"\n",
    "        return (f'Time(hour={self.hour}, minute={self.minute}, ' +  f'second={self.second})')"
   ]
  },
  {
   "cell_type": "code",
   "execution_count": 14,
   "id": "9e325a6a-2b94-4ef2-8765-34753a2d79f7",
   "metadata": {},
   "outputs": [
    {
     "data": {
      "text/plain": [
       "\u001b[0;31mInit signature:\u001b[0m \u001b[0mTime\u001b[0m\u001b[0;34m(\u001b[0m\u001b[0mhour\u001b[0m\u001b[0;34m=\u001b[0m\u001b[0;36m0\u001b[0m\u001b[0;34m,\u001b[0m \u001b[0mminute\u001b[0m\u001b[0;34m=\u001b[0m\u001b[0;36m0\u001b[0m\u001b[0;34m,\u001b[0m \u001b[0msecond\u001b[0m\u001b[0;34m=\u001b[0m\u001b[0;36m0\u001b[0m\u001b[0;34m)\u001b[0m\u001b[0;34m\u001b[0m\u001b[0;34m\u001b[0m\u001b[0m\n",
       "\u001b[0;31mDocstring:\u001b[0m      Class Time with read-write properties.\n",
       "\u001b[0;31mInit docstring:\u001b[0m Initialize each attribute.\n",
       "\u001b[0;31mType:\u001b[0m           type\n",
       "\u001b[0;31mSubclasses:\u001b[0m     \n"
      ]
     },
     "metadata": {},
     "output_type": "display_data"
    }
   ],
   "source": [
    "Time?"
   ]
  },
  {
   "cell_type": "code",
   "execution_count": 15,
   "id": "8af045e7-6981-43bf-a693-b45f0085d13e",
   "metadata": {
    "tags": []
   },
   "outputs": [
    {
     "data": {
      "text/plain": [
       "Time(hour=0, minute=0, second=0)"
      ]
     },
     "execution_count": 15,
     "metadata": {},
     "output_type": "execute_result"
    }
   ],
   "source": [
    "wakeup = Time(0, 0, 0)\n",
    "wakeup"
   ]
  },
  {
   "cell_type": "markdown",
   "id": "537521d9-57b5-43a7-b1a6-2a58e3fb0d4f",
   "metadata": {},
   "source": [
    "#### Class Time: hour Read-Write Property\n",
    "\n",
    "Lines 13–24 define a publicly accessible read-write property named hour that manipulates a data attribute named _hour. The single-leading-underscore (_) naming convention indicates that client code should not access _hour directly. \n",
    "\n",
    "As you saw in the previous section, properties look like data attributes to programmers working with Time objects. However, notice that properties are implemented as methods. Each property\n",
    "defines a getter method which gets (that is, returns) a data attribute’s value and can optionally define a setter method which sets a data attribute’s value."
   ]
  },
  {
   "cell_type": "code",
   "execution_count": null,
   "id": "0397cdc1-e70a-44cf-b0ab-fef0770f4956",
   "metadata": {},
   "outputs": [],
   "source": []
  }
 ],
 "metadata": {
  "kernelspec": {
   "display_name": "Python 3 (ipykernel)",
   "language": "python",
   "name": "python3"
  },
  "language_info": {
   "codemirror_mode": {
    "name": "ipython",
    "version": 3
   },
   "file_extension": ".py",
   "mimetype": "text/x-python",
   "name": "python",
   "nbconvert_exporter": "python",
   "pygments_lexer": "ipython3",
   "version": "3.10.12"
  }
 },
 "nbformat": 4,
 "nbformat_minor": 5
}
