{
 "cells": [
  {
   "cell_type": "markdown",
   "id": "f1917c9d-9e77-40b0-98b4-dd7bd4833268",
   "metadata": {},
   "source": [
    "<h1 align=\"center\">Random-Number Generation</h1>"
   ]
  },
  {
   "cell_type": "markdown",
   "id": "d1cb1df0-9943-4cc3-852e-63e91d4890ee",
   "metadata": {},
   "source": [
    "We now take a brief diversion into a popular type of programming application — simulation and game playing. You can introduce the element of chance via the Python Standard Library’s <b>random</b> module."
   ]
  },
  {
   "cell_type": "markdown",
   "id": "1c0403e9-e739-43e2-b9e7-6f1a9601a3d6",
   "metadata": {},
   "source": [
    "#### Rolling a Six-Sided Die"
   ]
  },
  {
   "cell_type": "markdown",
   "id": "222c460e-18d4-4d69-921e-077b7f6a7329",
   "metadata": {},
   "source": [
    "Let’s produce 10 random integers in the range 1–6 to simulate rolling a six-sided die.\n",
    "\n",
    "First, we import <b>random</b> so we can use the module’s capabilities. The <b>randrange</b> function generates an integer from the first argument value up to, but not including, the second argument value."
   ]
  },
  {
   "cell_type": "code",
   "execution_count": 22,
   "id": "a423c6ab-03c8-4414-8ce3-fb6c5572f975",
   "metadata": {},
   "outputs": [
    {
     "name": "stdout",
     "output_type": "stream",
     "text": [
      "3 3 6 5 2 3 1 3 6 5 "
     ]
    }
   ],
   "source": [
    "import random\n",
    "for roll in range(10):\n",
    "    print(random.randrange(1, 7), end=' ')"
   ]
  },
  {
   "cell_type": "markdown",
   "id": "4e4c28f5-2bf5-4378-b085-bf5c2ab2f10b",
   "metadata": {},
   "source": [
    "#### Rolling a Six-Sided Die 6,000,000 Times"
   ]
  },
  {
   "cell_type": "markdown",
   "id": "5bb55713-4328-4f83-adfb-f377900df4c3",
   "metadata": {},
   "source": [
    "If randrange truly produces integers at random, every number in its range has an equal <b>probability</b> of being returned each time we call it. To show that the die faces 1–6 occur with equal likelihood, the following script simulates 6,000,000 die rolls."
   ]
  },
  {
   "cell_type": "code",
   "execution_count": 23,
   "id": "27b7f4c1-7803-44e0-995e-8e5b05c9f47a",
   "metadata": {},
   "outputs": [],
   "source": [
    "import random\n",
    "rngOutput = []\n",
    "\n",
    "for RNGesus in range(6000000):\n",
    "    rngOutput.append(random.randrange(1, 7))\n",
    "    #print(random.randrange(1, 7), end=' ') rip pc"
   ]
  },
  {
   "cell_type": "markdown",
   "id": "3cd5221f",
   "metadata": {},
   "source": [
    "Statistics"
   ]
  },
  {
   "cell_type": "code",
   "execution_count": 24,
   "id": "92456f11-8b75-4eb7-ba28-57d3f729cba5",
   "metadata": {},
   "outputs": [
    {
     "name": "stdout",
     "output_type": "stream",
     "text": [
      "3.4989766666666666\n",
      "3.0\n"
     ]
    }
   ],
   "source": [
    "import statistics\n",
    "\n",
    "mean = statistics.mean(rngOutput)\n",
    "median = statistics.median(rngOutput)\n",
    "\n",
    "print(mean)\n",
    "print(median)\n"
   ]
  },
  {
   "cell_type": "markdown",
   "id": "d71a05b6",
   "metadata": {},
   "source": [
    "Count results"
   ]
  },
  {
   "cell_type": "code",
   "execution_count": 25,
   "id": "35c79ae9-03b3-40a5-8884-9a33f8124bcb",
   "metadata": {},
   "outputs": [
    {
     "name": "stdout",
     "output_type": "stream",
     "text": [
      "[1000855, 1000141, 1000370, 1000065, 1000061, 998508]\n"
     ]
    }
   ],
   "source": [
    "# Count results\n",
    "count = [0, 0, 0, 0, 0, 0]\n",
    "for value in rngOutput:\n",
    "    count[value - 1] += 1\n",
    "print(count)\n",
    "\n"
   ]
  },
  {
   "cell_type": "markdown",
   "id": "066732ca",
   "metadata": {},
   "source": [
    "Percent Chance"
   ]
  },
  {
   "cell_type": "code",
   "execution_count": 27,
   "id": "b3ac6fec",
   "metadata": {},
   "outputs": [
    {
     "name": "stdout",
     "output_type": "stream",
     "text": [
      "Ty le roll ra 1: 16.68%\n",
      "Ty le roll ra 2: 16.67%\n",
      "Ty le roll ra 3: 16.67%\n",
      "Ty le roll ra 4: 16.67%\n",
      "Ty le roll ra 5: 16.67%\n",
      "Ty le roll ra 6: 16.64%\n"
     ]
    }
   ],
   "source": [
    "# Chance\n",
    "total = sum(count)\n",
    "for i in range(len(count)):\n",
    "    percent = (count[i] / total) * 100\n",
    "    print(f\"Ty le roll ra {i + 1}: {percent:.2f}%\")\n",
    "    "
   ]
  }
 ],
 "metadata": {
  "kernelspec": {
   "display_name": ".venv",
   "language": "python",
   "name": "python3"
  },
  "language_info": {
   "codemirror_mode": {
    "name": "ipython",
    "version": 3
   },
   "file_extension": ".py",
   "mimetype": "text/x-python",
   "name": "python",
   "nbconvert_exporter": "python",
   "pygments_lexer": "ipython3",
   "version": "3.14.0"
  }
 },
 "nbformat": 4,
 "nbformat_minor": 5
}
